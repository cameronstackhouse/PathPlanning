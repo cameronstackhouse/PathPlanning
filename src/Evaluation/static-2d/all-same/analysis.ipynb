{
 "cells": [
  {
   "cell_type": "code",
   "execution_count": 33,
   "metadata": {},
   "outputs": [],
   "source": [
    "import json\n",
    "import matplotlib.pyplot as plt\n",
    "import seaborn as sns\n",
    "import numpy as np\n",
    "\n",
    "sns.set_style(\"dark\")"
   ]
  },
  {
   "cell_type": "code",
   "execution_count": 34,
   "metadata": {},
   "outputs": [],
   "source": [
    "with open(\"evaluation_results.json\") as json_data:\n",
    "    data = json.load(json_data)\n",
    "    json_data.close()"
   ]
  },
  {
   "cell_type": "code",
   "execution_count": 67,
   "metadata": {},
   "outputs": [
    {
     "data": {
      "text/plain": [
       "0.12"
      ]
     },
     "execution_count": 67,
     "metadata": {},
     "output_type": "execute_result"
    }
   ],
   "source": [
    "data[3][\"Success Rate\"]"
   ]
  },
  {
   "cell_type": "code",
   "execution_count": 46,
   "metadata": {},
   "outputs": [
    {
     "data": {
      "text/plain": [
       "[None,\n",
       " None,\n",
       " None,\n",
       " 1197.3341091899574,\n",
       " 1066.5882240932347,\n",
       " 899.8340185422998,\n",
       " None,\n",
       " None,\n",
       " 1257.4960833846221,\n",
       " None,\n",
       " 1285.2402565125626,\n",
       " 1297.5632470510336,\n",
       " 1000.6130918141878,\n",
       " 734.731528065959,\n",
       " 1890.933317317317,\n",
       " 509.74710230540586,\n",
       " 192.49886140795846,\n",
       " 871.9136411362131,\n",
       " 737.3047389529497,\n",
       " 894.2570673315716,\n",
       " 224.90478234271743,\n",
       " 1246.530641986318,\n",
       " 391.1102361397287,\n",
       " 165.5796489759877,\n",
       " 1166.1829332802592,\n",
       " None,\n",
       " 369.4161247157494,\n",
       " None,\n",
       " 1414.69924537823,\n",
       " 235.56354071525294,\n",
       " 727.930907539242,\n",
       " 608.6488820390048,\n",
       " 170.11013112610885,\n",
       " 1031.1028466564217,\n",
       " 1226.6706792721452,\n",
       " 644.993564465769,\n",
       " None,\n",
       " None,\n",
       " None,\n",
       " 419.63296101892837,\n",
       " None,\n",
       " 443.2879157793053,\n",
       " 538.6684293720622,\n",
       " 1218.0398116173155,\n",
       " 873.7091820844159,\n",
       " 657.9288924625773,\n",
       " 1211.0884917348028,\n",
       " 1213.7320502123425,\n",
       " 255.56747665717086,\n",
       " None]"
      ]
     },
     "execution_count": 46,
     "metadata": {},
     "output_type": "execute_result"
    }
   ],
   "source": [
    "data[1][\"Path Length\"]"
   ]
  },
  {
   "cell_type": "code",
   "execution_count": 80,
   "metadata": {},
   "outputs": [],
   "source": [
    "import pandas as pd\n",
    "\n",
    "srrt_lengths = data[1][\"Path Length\"]\n",
    "rrt_edge_lengths = data[2][\"Path Length\"]\n",
    "\n",
    "combined_df = pd.DataFrame({'srrt_lengths': srrt_lengths, 'rrt_edge_lengths': rrt_edge_lengths})\n"
   ]
  },
  {
   "cell_type": "code",
   "execution_count": 77,
   "metadata": {},
   "outputs": [
    {
     "data": {
      "text/html": [
       "<div>\n",
       "<style scoped>\n",
       "    .dataframe tbody tr th:only-of-type {\n",
       "        vertical-align: middle;\n",
       "    }\n",
       "\n",
       "    .dataframe tbody tr th {\n",
       "        vertical-align: top;\n",
       "    }\n",
       "\n",
       "    .dataframe thead th {\n",
       "        text-align: right;\n",
       "    }\n",
       "</style>\n",
       "<table border=\"1\" class=\"dataframe\">\n",
       "  <thead>\n",
       "    <tr style=\"text-align: right;\">\n",
       "      <th></th>\n",
       "      <th>srrt_lengths</th>\n",
       "      <th>rrt_edge_lengths</th>\n",
       "    </tr>\n",
       "  </thead>\n",
       "  <tbody>\n",
       "    <tr>\n",
       "      <th>3</th>\n",
       "      <td>1197.334109</td>\n",
       "      <td>1985.222655</td>\n",
       "    </tr>\n",
       "    <tr>\n",
       "      <th>4</th>\n",
       "      <td>1066.588224</td>\n",
       "      <td>1059.926894</td>\n",
       "    </tr>\n",
       "    <tr>\n",
       "      <th>5</th>\n",
       "      <td>899.834019</td>\n",
       "      <td>956.289334</td>\n",
       "    </tr>\n",
       "    <tr>\n",
       "      <th>8</th>\n",
       "      <td>1257.496083</td>\n",
       "      <td>1265.883150</td>\n",
       "    </tr>\n",
       "    <tr>\n",
       "      <th>10</th>\n",
       "      <td>1285.240257</td>\n",
       "      <td>1306.774719</td>\n",
       "    </tr>\n",
       "    <tr>\n",
       "      <th>11</th>\n",
       "      <td>1297.563247</td>\n",
       "      <td>1243.509042</td>\n",
       "    </tr>\n",
       "    <tr>\n",
       "      <th>13</th>\n",
       "      <td>734.731528</td>\n",
       "      <td>1890.347458</td>\n",
       "    </tr>\n",
       "    <tr>\n",
       "      <th>14</th>\n",
       "      <td>1890.933317</td>\n",
       "      <td>1270.458030</td>\n",
       "    </tr>\n",
       "    <tr>\n",
       "      <th>15</th>\n",
       "      <td>509.747102</td>\n",
       "      <td>576.468662</td>\n",
       "    </tr>\n",
       "    <tr>\n",
       "      <th>16</th>\n",
       "      <td>192.498861</td>\n",
       "      <td>212.126531</td>\n",
       "    </tr>\n",
       "    <tr>\n",
       "      <th>17</th>\n",
       "      <td>871.913641</td>\n",
       "      <td>1004.935919</td>\n",
       "    </tr>\n",
       "    <tr>\n",
       "      <th>18</th>\n",
       "      <td>737.304739</td>\n",
       "      <td>794.967704</td>\n",
       "    </tr>\n",
       "    <tr>\n",
       "      <th>19</th>\n",
       "      <td>894.257067</td>\n",
       "      <td>987.376019</td>\n",
       "    </tr>\n",
       "    <tr>\n",
       "      <th>20</th>\n",
       "      <td>224.904782</td>\n",
       "      <td>241.441526</td>\n",
       "    </tr>\n",
       "    <tr>\n",
       "      <th>22</th>\n",
       "      <td>391.110236</td>\n",
       "      <td>427.205939</td>\n",
       "    </tr>\n",
       "    <tr>\n",
       "      <th>23</th>\n",
       "      <td>165.579649</td>\n",
       "      <td>168.898889</td>\n",
       "    </tr>\n",
       "    <tr>\n",
       "      <th>24</th>\n",
       "      <td>1166.182933</td>\n",
       "      <td>1132.484111</td>\n",
       "    </tr>\n",
       "    <tr>\n",
       "      <th>26</th>\n",
       "      <td>369.416125</td>\n",
       "      <td>395.026859</td>\n",
       "    </tr>\n",
       "    <tr>\n",
       "      <th>28</th>\n",
       "      <td>1414.699245</td>\n",
       "      <td>1389.255073</td>\n",
       "    </tr>\n",
       "    <tr>\n",
       "      <th>29</th>\n",
       "      <td>235.563541</td>\n",
       "      <td>255.712410</td>\n",
       "    </tr>\n",
       "    <tr>\n",
       "      <th>30</th>\n",
       "      <td>727.930908</td>\n",
       "      <td>720.360879</td>\n",
       "    </tr>\n",
       "    <tr>\n",
       "      <th>31</th>\n",
       "      <td>608.648882</td>\n",
       "      <td>608.747714</td>\n",
       "    </tr>\n",
       "    <tr>\n",
       "      <th>32</th>\n",
       "      <td>170.110131</td>\n",
       "      <td>185.756081</td>\n",
       "    </tr>\n",
       "    <tr>\n",
       "      <th>33</th>\n",
       "      <td>1031.102847</td>\n",
       "      <td>1185.621006</td>\n",
       "    </tr>\n",
       "    <tr>\n",
       "      <th>34</th>\n",
       "      <td>1226.670679</td>\n",
       "      <td>1568.457020</td>\n",
       "    </tr>\n",
       "    <tr>\n",
       "      <th>35</th>\n",
       "      <td>644.993564</td>\n",
       "      <td>657.272050</td>\n",
       "    </tr>\n",
       "    <tr>\n",
       "      <th>39</th>\n",
       "      <td>419.632961</td>\n",
       "      <td>565.942404</td>\n",
       "    </tr>\n",
       "    <tr>\n",
       "      <th>42</th>\n",
       "      <td>538.668429</td>\n",
       "      <td>959.136470</td>\n",
       "    </tr>\n",
       "    <tr>\n",
       "      <th>43</th>\n",
       "      <td>1218.039812</td>\n",
       "      <td>1270.412616</td>\n",
       "    </tr>\n",
       "    <tr>\n",
       "      <th>44</th>\n",
       "      <td>873.709182</td>\n",
       "      <td>1090.485756</td>\n",
       "    </tr>\n",
       "    <tr>\n",
       "      <th>45</th>\n",
       "      <td>657.928892</td>\n",
       "      <td>666.384263</td>\n",
       "    </tr>\n",
       "    <tr>\n",
       "      <th>46</th>\n",
       "      <td>1211.088492</td>\n",
       "      <td>1487.241630</td>\n",
       "    </tr>\n",
       "    <tr>\n",
       "      <th>47</th>\n",
       "      <td>1213.732050</td>\n",
       "      <td>1348.624585</td>\n",
       "    </tr>\n",
       "    <tr>\n",
       "      <th>48</th>\n",
       "      <td>255.567477</td>\n",
       "      <td>304.437786</td>\n",
       "    </tr>\n",
       "  </tbody>\n",
       "</table>\n",
       "</div>"
      ],
      "text/plain": [
       "    srrt_lengths  rrt_edge_lengths\n",
       "3    1197.334109       1985.222655\n",
       "4    1066.588224       1059.926894\n",
       "5     899.834019        956.289334\n",
       "8    1257.496083       1265.883150\n",
       "10   1285.240257       1306.774719\n",
       "11   1297.563247       1243.509042\n",
       "13    734.731528       1890.347458\n",
       "14   1890.933317       1270.458030\n",
       "15    509.747102        576.468662\n",
       "16    192.498861        212.126531\n",
       "17    871.913641       1004.935919\n",
       "18    737.304739        794.967704\n",
       "19    894.257067        987.376019\n",
       "20    224.904782        241.441526\n",
       "22    391.110236        427.205939\n",
       "23    165.579649        168.898889\n",
       "24   1166.182933       1132.484111\n",
       "26    369.416125        395.026859\n",
       "28   1414.699245       1389.255073\n",
       "29    235.563541        255.712410\n",
       "30    727.930908        720.360879\n",
       "31    608.648882        608.747714\n",
       "32    170.110131        185.756081\n",
       "33   1031.102847       1185.621006\n",
       "34   1226.670679       1568.457020\n",
       "35    644.993564        657.272050\n",
       "39    419.632961        565.942404\n",
       "42    538.668429        959.136470\n",
       "43   1218.039812       1270.412616\n",
       "44    873.709182       1090.485756\n",
       "45    657.928892        666.384263\n",
       "46   1211.088492       1487.241630\n",
       "47   1213.732050       1348.624585\n",
       "48    255.567477        304.437786"
      ]
     },
     "execution_count": 77,
     "metadata": {},
     "output_type": "execute_result"
    }
   ],
   "source": [
    "filtered_df = combined_df.dropna()\n",
    "filtered_df"
   ]
  },
  {
   "cell_type": "code",
   "execution_count": 72,
   "metadata": {},
   "outputs": [],
   "source": [
    "mean_srrt_lengths = filtered_df['srrt_lengths'].mean()\n",
    "median_srrt_lengths = filtered_df['srrt_lengths'].median()\n",
    "mean_rrt_edge_lengths = filtered_df['rrt_edge_lengths'].mean()\n",
    "median_rrt_edge_lengths = filtered_df['rrt_edge_lengths'].median()"
   ]
  },
  {
   "cell_type": "code",
   "execution_count": 109,
   "metadata": {},
   "outputs": [
    {
     "data": {
      "text/plain": [
       "811.7859709734506"
      ]
     },
     "execution_count": 109,
     "metadata": {},
     "output_type": "execute_result"
    }
   ],
   "source": [
    "mean_srrt_lengths"
   ]
  },
  {
   "cell_type": "code",
   "execution_count": 108,
   "metadata": {},
   "outputs": [
    {
     "data": {
      "text/plain": [
       "804.6091900445814"
      ]
     },
     "execution_count": 108,
     "metadata": {},
     "output_type": "execute_result"
    }
   ],
   "source": [
    "median_srrt_lengths"
   ]
  },
  {
   "cell_type": "code",
   "execution_count": 107,
   "metadata": {},
   "outputs": [
    {
     "data": {
      "text/plain": [
       "917.1526817999802"
      ]
     },
     "execution_count": 107,
     "metadata": {},
     "output_type": "execute_result"
    }
   ],
   "source": [
    "mean_rrt_edge_lengths"
   ]
  },
  {
   "cell_type": "code",
   "execution_count": 105,
   "metadata": {},
   "outputs": [
    {
     "data": {
      "text/plain": [
       "973.2562443720512"
      ]
     },
     "execution_count": 105,
     "metadata": {},
     "output_type": "execute_result"
    }
   ],
   "source": [
    "median_rrt_edge_lengths"
   ]
  },
  {
   "cell_type": "code",
   "execution_count": 86,
   "metadata": {},
   "outputs": [
    {
     "data": {
      "text/html": [
       "<div>\n",
       "<style scoped>\n",
       "    .dataframe tbody tr th:only-of-type {\n",
       "        vertical-align: middle;\n",
       "    }\n",
       "\n",
       "    .dataframe tbody tr th {\n",
       "        vertical-align: top;\n",
       "    }\n",
       "\n",
       "    .dataframe thead th {\n",
       "        text-align: right;\n",
       "    }\n",
       "</style>\n",
       "<table border=\"1\" class=\"dataframe\">\n",
       "  <thead>\n",
       "    <tr style=\"text-align: right;\">\n",
       "      <th></th>\n",
       "      <th>Type</th>\n",
       "      <th>Lengths</th>\n",
       "    </tr>\n",
       "  </thead>\n",
       "  <tbody>\n",
       "    <tr>\n",
       "      <th>0</th>\n",
       "      <td>srrt_lengths</td>\n",
       "      <td>1197.334109</td>\n",
       "    </tr>\n",
       "    <tr>\n",
       "      <th>1</th>\n",
       "      <td>srrt_lengths</td>\n",
       "      <td>1066.588224</td>\n",
       "    </tr>\n",
       "    <tr>\n",
       "      <th>2</th>\n",
       "      <td>srrt_lengths</td>\n",
       "      <td>899.834019</td>\n",
       "    </tr>\n",
       "    <tr>\n",
       "      <th>3</th>\n",
       "      <td>srrt_lengths</td>\n",
       "      <td>1257.496083</td>\n",
       "    </tr>\n",
       "    <tr>\n",
       "      <th>4</th>\n",
       "      <td>srrt_lengths</td>\n",
       "      <td>1285.240257</td>\n",
       "    </tr>\n",
       "    <tr>\n",
       "      <th>...</th>\n",
       "      <td>...</td>\n",
       "      <td>...</td>\n",
       "    </tr>\n",
       "    <tr>\n",
       "      <th>63</th>\n",
       "      <td>rrt_edge_lengths</td>\n",
       "      <td>1090.485756</td>\n",
       "    </tr>\n",
       "    <tr>\n",
       "      <th>64</th>\n",
       "      <td>rrt_edge_lengths</td>\n",
       "      <td>666.384263</td>\n",
       "    </tr>\n",
       "    <tr>\n",
       "      <th>65</th>\n",
       "      <td>rrt_edge_lengths</td>\n",
       "      <td>1487.241630</td>\n",
       "    </tr>\n",
       "    <tr>\n",
       "      <th>66</th>\n",
       "      <td>rrt_edge_lengths</td>\n",
       "      <td>1348.624585</td>\n",
       "    </tr>\n",
       "    <tr>\n",
       "      <th>67</th>\n",
       "      <td>rrt_edge_lengths</td>\n",
       "      <td>304.437786</td>\n",
       "    </tr>\n",
       "  </tbody>\n",
       "</table>\n",
       "<p>68 rows × 2 columns</p>\n",
       "</div>"
      ],
      "text/plain": [
       "                Type      Lengths\n",
       "0       srrt_lengths  1197.334109\n",
       "1       srrt_lengths  1066.588224\n",
       "2       srrt_lengths   899.834019\n",
       "3       srrt_lengths  1257.496083\n",
       "4       srrt_lengths  1285.240257\n",
       "..               ...          ...\n",
       "63  rrt_edge_lengths  1090.485756\n",
       "64  rrt_edge_lengths   666.384263\n",
       "65  rrt_edge_lengths  1487.241630\n",
       "66  rrt_edge_lengths  1348.624585\n",
       "67  rrt_edge_lengths   304.437786\n",
       "\n",
       "[68 rows x 2 columns]"
      ]
     },
     "execution_count": 86,
     "metadata": {},
     "output_type": "execute_result"
    }
   ],
   "source": [
    "df_melted = filtered_df.melt(value_vars=['srrt_lengths', 'rrt_edge_lengths'], \n",
    "                             var_name='Type', value_name='Lengths')\n",
    "\n",
    "df_melted\n"
   ]
  },
  {
   "cell_type": "code",
   "execution_count": 102,
   "metadata": {},
   "outputs": [
    {
     "data": {
      "image/png": "[encoded data removed]",
      "text/plain": [
       "<Figure size 720x432 with 1 Axes>"
      ]
     },
     "metadata": {},
     "output_type": "display_data"
    }
   ],
   "source": [
    "sns.set(style=\"whitegrid\")\n",
    "\n",
    "plt.figure(figsize=(10, 6))\n",
    "boxplot = sns.boxplot(x='Type', y='Lengths', data=df_melted, palette=\"Set2\", width=0.3)\n",
    "stripplot = sns.stripplot(x='Type', y='Lengths', data=df_melted, jitter=True, color='black', alpha=0.6)\n",
    "\n",
    "boxplot.set_xticklabels([\"SRRT-Edge\", \"RRT-Edge\"])\n",
    "plt.title('Comparison of SRRT-Edge and RRT-Edge Path Length', fontsize=16)\n",
    "plt.xlabel('Algorithm', fontsize=14)\n",
    "plt.ylabel('Length of Path', fontsize=14)\n",
    "\n",
    "plt.show()"
   ]
  }
 ],
 "metadata": {
  "kernelspec": {
   "display_name": "Python 3",
   "language": "python",
   "name": "python3"
  },
  "language_info": {
   "codemirror_mode": {
    "name": "ipython",
    "version": 3
   },
   "file_extension": ".py",
   "mimetype": "text/x-python",
   "name": "python",
   "nbconvert_exporter": "python",
   "pygments_lexer": "ipython3",
   "version": "3.9.0"
  }
 },
 "nbformat": 4,
 "nbformat_minor": 2
}
