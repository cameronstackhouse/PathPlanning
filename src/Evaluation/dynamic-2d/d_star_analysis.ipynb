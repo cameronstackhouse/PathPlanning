{
 "cells": [
  {
   "cell_type": "code",
   "execution_count": 2,
   "metadata": {},
   "outputs": [],
   "source": [
    "import json\n",
    "import matplotlib.pyplot as plt\n",
    "import seaborn as sns\n",
    "import numpy as np\n",
    "import pandas as pd\n",
    "\n",
    "sns.set_style(\"dark\")"
   ]
  },
  {
   "cell_type": "code",
   "execution_count": 3,
   "metadata": {},
   "outputs": [],
   "source": [
    "with open(\"D* Lite 2D dynamic.json\") as json_data:\n",
    "    data = json.load(json_data)\n",
    "    json_data.close()"
   ]
  },
  {
   "cell_type": "code",
   "execution_count": 5,
   "metadata": {},
   "outputs": [
    {
     "data": {
      "text/plain": [
       "dict_keys(['Algorithm', 'Map Names', 'Path', 'Success Rate', 'Path Length', 'Initial Calculation Time', 'Traversal Time', 'CPU Usage', 'Memory Used', 'Energy To Traverse', 'Replan Time'])"
      ]
     },
     "execution_count": 5,
     "metadata": {},
     "output_type": "execute_result"
    }
   ],
   "source": [
    "data[0].keys()"
   ]
  },
  {
   "cell_type": "code",
   "execution_count": 16,
   "metadata": {},
   "outputs": [
    {
     "data": {
      "text/plain": [
       "[10809369,\n",
       " 32026254,\n",
       " 48577947,\n",
       " 24956614,\n",
       " 19491169,\n",
       " 38395724,\n",
       " 28660502,\n",
       " 48448885,\n",
       " 35331154,\n",
       " 49830471,\n",
       " 38242178,\n",
       " 72969154,\n",
       " 33006014,\n",
       " 18798106,\n",
       " 24605022,\n",
       " 6675428,\n",
       " 4379244,\n",
       " 51282803,\n",
       " 17543854,\n",
       " 35447803,\n",
       " 5997409,\n",
       " 73716223,\n",
       " 11159650,\n",
       " 4943813,\n",
       " 44542659,\n",
       " 22338830,\n",
       " 19844959,\n",
       " 53199372,\n",
       " 43951399,\n",
       " 6363971,\n",
       " 29935351,\n",
       " 12025694,\n",
       " 4402620,\n",
       " 29255855,\n",
       " 35878327,\n",
       " 12848458,\n",
       " 128134258,\n",
       " 327347,\n",
       " 19502471,\n",
       " 24443717,\n",
       " 27426632,\n",
       " 15806228,\n",
       " 7938744,\n",
       " 48422959,\n",
       " 22814955,\n",
       " 34031055,\n",
       " 35524620,\n",
       " 50831587,\n",
       " 5522782,\n",
       " 44977856]"
      ]
     },
     "execution_count": 16,
     "metadata": {},
     "output_type": "execute_result"
    }
   ],
   "source": [
    "data[0][\"Memory Used\"]"
   ]
  }
 ],
 "metadata": {
  "kernelspec": {
   "display_name": "Python 3",
   "language": "python",
   "name": "python3"
  },
  "language_info": {
   "codemirror_mode": {
    "name": "ipython",
    "version": 3
   },
   "file_extension": ".py",
   "mimetype": "text/x-python",
   "name": "python",
   "nbconvert_exporter": "python",
   "pygments_lexer": "ipython3",
   "version": "3.9.0"
  }
 },
 "nbformat": 4,
 "nbformat_minor": 2
}
