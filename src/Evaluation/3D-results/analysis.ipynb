{
 "cells": [
  {
   "cell_type": "code",
   "execution_count": 1,
   "metadata": {},
   "outputs": [],
   "source": [
    "import json\n",
    "import matplotlib.pyplot as plt\n",
    "import seaborn as sns\n",
    "import numpy as np\n",
    "import pandas as pd\n",
    "\n",
    "sns.set_style(\"dark\")"
   ]
  },
  {
   "cell_type": "code",
   "execution_count": 2,
   "metadata": {},
   "outputs": [],
   "source": [
    "with open(\"3D AD A*.json\") as json_data:\n",
    "    ad_a_star = json.load(json_data)\n",
    "    json_data.close()"
   ]
  },
  {
   "cell_type": "code",
   "execution_count": 3,
   "metadata": {},
   "outputs": [],
   "source": [
    "with open(\"3D dynamic benchmark sampling based.json\") as json_data:\n",
    "    benchmark_sampling = json.load(json_data)\n",
    "    json_data.close()"
   ]
  },
  {
   "cell_type": "code",
   "execution_count": 4,
   "metadata": {},
   "outputs": [],
   "source": [
    "with open(\"DStar.json\") as json_data:\n",
    "    d_star = json.load(json_data)\n",
    "    json_data.close()"
   ]
  },
  {
   "cell_type": "code",
   "execution_count": 5,
   "metadata": {},
   "outputs": [],
   "source": [
    "with open(\"3D Dynamic SRRT-Edge.json\") as json_data:\n",
    "    srrt = json.load(json_data)\n",
    "    json_data.close()"
   ]
  },
  {
   "cell_type": "code",
   "execution_count": 6,
   "metadata": {},
   "outputs": [],
   "source": [
    "with open(\"3D Sampling based one second.json\") as json_data:\n",
    "    one_second_sampling = json.load(json_data)\n",
    "    json_data.close()"
   ]
  },
  {
   "cell_type": "code",
   "execution_count": 11,
   "metadata": {},
   "outputs": [
    {
     "data": {
      "text/plain": [
       "[69326.21410576001,\n",
       " 152431.04661309853,\n",
       " 203862.95571785126,\n",
       " 266066.62470172177,\n",
       " 393342.5035145654,\n",
       " None,\n",
       " 506696.18199793296,\n",
       " 598480.6112875226,\n",
       " 681670.9481921307,\n",
       " None,\n",
       " 814302.2195345911,\n",
       " 907965.9999961136,\n",
       " 1127216.4854120924,\n",
       " 1231873.4151980043,\n",
       " 1330053.4231615155,\n",
       " 1424692.385442385,\n",
       " 1515533.3280471943,\n",
       " 1552512.4761349289,\n",
       " 1639752.250202706,\n",
       " 1735457.541691314,\n",
       " 1824719.1574184867,\n",
       " 1940841.2822083363,\n",
       " 2030193.1589830646,\n",
       " 2117150.535170354,\n",
       " 2183796.5082741044,\n",
       " 2237632.007980533,\n",
       " None,\n",
       " 2310556.110083554,\n",
       " 2411480.8859584676,\n",
       " 2487909.5256633903,\n",
       " 2596581.606853791,\n",
       " 2675128.8003152614,\n",
       " 2752642.61127895,\n",
       " 2841701.627528497,\n",
       " 3059635.4665617067,\n",
       " 3185545.6182096642,\n",
       " None,\n",
       " 3277138.353584168,\n",
       " 3363730.4444025187,\n",
       " 3451712.7572471383,\n",
       " 3541039.193840617,\n",
       " 3636155.1217053933,\n",
       " 3741278.7298583286,\n",
       " None,\n",
       " None,\n",
       " 3820284.6586567624,\n",
       " 3967362.6946248766,\n",
       " 4066066.8240842046,\n",
       " 4135719.8900971627,\n",
       " 4223708.470962427]"
      ]
     },
     "execution_count": 11,
     "metadata": {},
     "output_type": "execute_result"
    }
   ],
   "source": [
    "one_second_sampling[1][\"Energy To Traverse\"]"
   ]
  },
  {
   "cell_type": "markdown",
   "metadata": {},
   "source": [
    "# "
   ]
  }
 ],
 "metadata": {
  "kernelspec": {
   "display_name": "Python 3",
   "language": "python",
   "name": "python3"
  },
  "language_info": {
   "codemirror_mode": {
    "name": "ipython",
    "version": 3
   },
   "file_extension": ".py",
   "mimetype": "text/x-python",
   "name": "python",
   "nbconvert_exporter": "python",
   "pygments_lexer": "ipython3",
   "version": "3.9.0"
  }
 },
 "nbformat": 4,
 "nbformat_minor": 2
}
