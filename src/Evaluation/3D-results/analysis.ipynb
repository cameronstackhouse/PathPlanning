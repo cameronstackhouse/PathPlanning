{
 "cells": [
  {
   "cell_type": "code",
   "execution_count": 1,
   "metadata": {},
   "outputs": [],
   "source": [
    "import json\n",
    "import matplotlib.pyplot as plt\n",
    "import seaborn as sns\n",
    "import numpy as np\n",
    "import pandas as pd\n",
    "\n",
    "sns.set_style(\"dark\")"
   ]
  },
  {
   "cell_type": "code",
   "execution_count": 2,
   "metadata": {},
   "outputs": [],
   "source": [
    "with open(\"3D-5-seconds.json\") as json_data:\n",
    "    five_seconds = json.load(json_data)\n",
    "    json_data.close()"
   ]
  },
  {
   "cell_type": "code",
   "execution_count": null,
   "metadata": {},
   "outputs": [],
   "source": [
    "with open(\"TEST.json\") as json_data:\n",
    "    five_seconds = json.load(json_data)\n",
    "    json_data.close()"
   ]
  },
  {
   "cell_type": "code",
   "execution_count": 5,
   "metadata": {},
   "outputs": [
    {
     "data": {
      "text/plain": [
       "dict_keys(['Algorithm', 'Map Names', 'Results', 'Success Rate'])"
      ]
     },
     "execution_count": 5,
     "metadata": {},
     "output_type": "execute_result"
    }
   ],
   "source": [
    "five_seconds[0].keys()"
   ]
  },
  {
   "cell_type": "code",
   "execution_count": 15,
   "metadata": {},
   "outputs": [],
   "source": [
    "def report(algo_data):\n",
    "    output = \"\"\n",
    "    output += f\"Name: {algo_data['Algorithm']}\\n\"\n",
    "    output += f\"Success Rate: {algo_data['Success Rate']}\"\n",
    "    \n",
    "    return output"
   ]
  },
  {
   "cell_type": "code",
   "execution_count": 23,
   "metadata": {},
   "outputs": [
    {
     "name": "stdout",
     "output_type": "stream",
     "text": [
      "Name: D* Lite: 5\n",
      "Success Rate: 0.0\n"
     ]
    }
   ],
   "source": [
    "summary = report(five_seconds[0])\n",
    "print(summary)"
   ]
  },
  {
   "cell_type": "code",
   "execution_count": 40,
   "metadata": {},
   "outputs": [
    {
     "data": {
      "text/plain": [
       "{'path': [[52, 68, 34],\n",
       "  [52, 68, 34],\n",
       "  [54.218800784900914, 68.55470019622523, 39.54700196225229],\n",
       "  [54.218800784900914, 68.55470019622523, 39.54700196225229],\n",
       "  [56.11276447788176, 66.959269486016, 45.01211883004127],\n",
       "  [58.00672817086261, 65.36383877580677, 50.477235697830245],\n",
       "  [59.900691863843456, 63.76840806559754, 55.942352565619224],\n",
       "  [61.7946555568243, 62.17297735538832, 61.4074694334082],\n",
       "  [61.7946555568243, 62.17297735538832, 61.4074694334082],\n",
       "  [59.217605680062235, 67.41723539088129, 62.77003010723085],\n",
       "  [56.640555803300174, 72.66149342637426, 64.13259078105351],\n",
       "  [56.640555803300174, 72.66149342637426, 64.13259078105351],\n",
       "  [54, 77, 65]],\n",
       " 'path_len': 42.0,\n",
       " 'energy': 36153.14234173923,\n",
       " 'compute_time': 0.37966132164001465,\n",
       " 'traversal_time': 1.1668035984039307,\n",
       " 'cpu_usage': [100.0,\n",
       "  100.0,\n",
       "  100.0,\n",
       "  100.0,\n",
       "  100.0,\n",
       "  100.0,\n",
       "  100.0,\n",
       "  100.0,\n",
       "  100.0,\n",
       "  100.0,\n",
       "  100.0,\n",
       "  0.0],\n",
       " 'memory_used': 116295,\n",
       " 'replan_time': []}"
      ]
     },
     "execution_count": 40,
     "metadata": {},
     "output_type": "execute_result"
    }
   ],
   "source": [
    "five_seconds[1][\"Results\"][2]"
   ]
  },
  {
   "cell_type": "markdown",
   "metadata": {},
   "source": [
    "# "
   ]
  }
 ],
 "metadata": {
  "kernelspec": {
   "display_name": "Python 3",
   "language": "python",
   "name": "python3"
  },
  "language_info": {
   "codemirror_mode": {
    "name": "ipython",
    "version": 3
   },
   "file_extension": ".py",
   "mimetype": "text/x-python",
   "name": "python",
   "nbconvert_exporter": "python",
   "pygments_lexer": "ipython3",
   "version": "3.9.0"
  }
 },
 "nbformat": 4,
 "nbformat_minor": 2
}
